{
 "cells": [
  {
   "cell_type": "code",
   "execution_count": 101,
   "metadata": {},
   "outputs": [
    {
     "name": "stdout",
     "output_type": "stream",
     "text": [
      "[1, 2, 1, 1]\n",
      "[2, 6, 1, 0.5]\n",
      "[3, 12, 0.5, 0.667]\n",
      "[4, 20, 0.667, 0.5]\n",
      "[5, 30, 0.5, 0.4]\n",
      "[6, 42, 0.4, 0.333]\n",
      "[7, 56, 0.333, 0.429]\n",
      "[8, 72, 0.429, 0.375]\n",
      "[9, 90, 0.375, 0.333]\n",
      "[10, 110, 0.333, 0.3]\n",
      "[11, 132, 0.3, 0.273]\n",
      "[12, 156, 0.273, 0.25]\n",
      "[13, 182, 0.25, 0.231]\n",
      "[14, 210, 0.231, 0.214]\n",
      "[15, 240, 0.214, 0.267]\n",
      "[16, 272, 0.267, 0.25]\n",
      "[17, 306, 0.25, 0.235]\n",
      "[18, 342, 0.235, 0.222]\n",
      "[19, 380, 0.222, 0.211]\n",
      "[20, 420, 0.211, 0.2]\n",
      "[21, 462, 0.2, 0.19]\n",
      "[22, 506, 0.19, 0.182]\n",
      "[23, 552, 0.182, 0.174]\n",
      "[24, 600, 0.174, 0.167]\n",
      "[25, 650, 0.167, 0.16]\n",
      "[26, 702, 0.16, 0.154]\n",
      "[27, 756, 0.154, 0.148]\n",
      "[28, 812, 0.148, 0.143]\n",
      "[29, 870, 0.143, 0.138]\n",
      "[30, 930, 0.138, 0.133]\n",
      "[31, 992, 0.133, 0.161]\n",
      "[32, 1056, 0.161, 0.156]\n",
      "[33, 1122, 0.156, 0.152]\n",
      "[34, 1190, 0.152, 0.147]\n",
      "[35, 1260, 0.147, 0.143]\n",
      "[36, 1332, 0.143, 0.139]\n",
      "[37, 1406, 0.139, 0.135]\n",
      "[38, 1482, 0.135, 0.132]\n",
      "[39, 1560, 0.132, 0.128]\n",
      "[40, 1640, 0.128, 0.125]\n",
      "[41, 1722, 0.125, 0.122]\n",
      "[42, 1806, 0.122, 0.119]\n",
      "[43, 1892, 0.119, 0.116]\n",
      "[44, 1980, 0.116, 0.114]\n",
      "[45, 2070, 0.114, 0.111]\n",
      "[46, 2162, 0.111, 0.109]\n",
      "[47, 2256, 0.109, 0.106]\n",
      "[48, 2352, 0.106, 0.104]\n",
      "[49, 2450, 0.104, 0.102]\n"
     ]
    }
   ],
   "source": [
    "#!/usr/bin/env python3\n",
    "\n",
    "\n",
    "import math\n",
    "import matplotlib.pyplot as plt\n",
    "\n",
    "def cmp(x, y):\n",
    "    \"\"\"\n",
    "    Replacement for built-in function cmp that was removed in Python 3\n",
    "\n",
    "    Compare the two objects x and y and return an integer according to\n",
    "    the outcome. The return value is negative if x < y, zero if x == y\n",
    "    and strictly positive if x > y.\n",
    "    \"\"\"\n",
    "\n",
    "    return (x > y) - (x < y)\n",
    "\n",
    "\n",
    "def pp(i):\n",
    "    if i < 6: return 1\n",
    "    r = round(math.sqrt(i + 1))\n",
    "    p = math.floor(math.log(r, 2))\n",
    "    return float(p) / (r - 1)\n",
    "\n",
    "for i in range(1, 50):\n",
    "    k = i * (i+1)\n",
    "    print([i, k, round(pp(k-1), 3), round(pp(k), 3)])\n"
   ]
  },
  {
   "cell_type": "code",
   "execution_count": 53,
   "metadata": {},
   "outputs": [
    {
     "name": "stdout",
     "output_type": "stream",
     "text": [
      "[2, 12, 0.5, 0.6666666666666666]\n",
      "[3, 56, 0.3333333333333333, 0.42857142857142855]\n",
      "[4, 240, 0.21428571428571427, 0.26666666666666666]\n",
      "[5, 992, 0.13333333333333333, 0.16129032258064516]\n",
      "[6, 4032, 0.08064516129032258, 0.09523809523809523]\n",
      "[7, 16256, 0.047619047619047616, 0.05511811023622047]\n",
      "[8, 65280, 0.027559055118110236, 0.03137254901960784]\n",
      "[9, 261632, 0.01568627450980392, 0.01761252446183953]\n"
     ]
    }
   ],
   "source": [
    "for i in range(2, 10):\n",
    "    j = 2**i\n",
    "    k = j * (j - 1)\n",
    "    print([i, k, pp(k - 1), pp(k)])"
   ]
  },
  {
   "cell_type": "code",
   "execution_count": 98,
   "metadata": {},
   "outputs": [
    {
     "name": "stdout",
     "output_type": "stream",
     "text": [
      "False\n",
      "False\n",
      "False\n",
      "True\n",
      "True\n",
      "True\n",
      "True\n"
     ]
    }
   ],
   "source": [
    "f = 229779.0 /1094229779990\n",
    "beg = 123814511\n",
    "end = 123814512\n",
    "k0 = (beg -1) * beg\n",
    "k1 = (end -1) * end\n",
    "for k in [k0, k0 + 1, k0 + 2, (k0 + k1) / 2, k1 - 1, k1, k1 + 1]:\n",
    "    print(pp(k) < f)\n"
   ]
  },
  {
   "cell_type": "code",
   "execution_count": 45,
   "metadata": {},
   "outputs": [
    {
     "data": {
      "text/plain": [
       "[(0, 0, 0.0),\n",
       " (1, 2, 1.0),\n",
       " (2, 6, 1.5849625007211563),\n",
       " (3, 12, 2.0),\n",
       " (4, 20, 2.321928094887362),\n",
       " (5, 30, 2.584962500721156),\n",
       " (6, 42, 2.807354922057604),\n",
       " (7, 56, 3.0),\n",
       " (8, 72, 3.1699250014423126),\n",
       " (9, 90, 3.3219280948873626),\n",
       " (10, 110, 3.4594316186372978),\n",
       " (11, 132, 3.5849625007211565),\n",
       " (12, 156, 3.700439718141092),\n",
       " (13, 182, 3.8073549220576037),\n",
       " (14, 210, 3.9068905956085187),\n",
       " (15, 240, 4.0),\n",
       " (16, 272, 4.08746284125034),\n",
       " (17, 306, 4.169925001442312),\n",
       " (18, 342, 4.247927513443585),\n",
       " (19, 380, 4.321928094887363)]"
      ]
     },
     "execution_count": 45,
     "metadata": {},
     "output_type": "execute_result"
    }
   ],
   "source": [
    "[ (i, i * (i+1), math.log(i+1, 2)) for i in range(20)]"
   ]
  },
  {
   "cell_type": "code",
   "execution_count": 56,
   "metadata": {},
   "outputs": [
    {
     "data": {
      "text/plain": [
       "0.07142857142857142"
      ]
     },
     "execution_count": 56,
     "metadata": {},
     "output_type": "execute_result"
    }
   ],
   "source": [
    "pp(7309)"
   ]
  },
  {
   "cell_type": "code",
   "execution_count": 55,
   "metadata": {},
   "outputs": [
    {
     "data": {
      "text/plain": [
       "0.07142857142857142"
      ]
     },
     "execution_count": 55,
     "metadata": {},
     "output_type": "execute_result"
    }
   ],
   "source": [
    "5.0 / 70"
   ]
  },
  {
   "cell_type": "code",
   "execution_count": null,
   "metadata": {},
   "outputs": [],
   "source": []
  }
 ],
 "metadata": {
  "kernelspec": {
   "display_name": "Python 3",
   "language": "python",
   "name": "python3"
  },
  "language_info": {
   "codemirror_mode": {
    "name": "ipython",
    "version": 3
   },
   "file_extension": ".py",
   "mimetype": "text/x-python",
   "name": "python",
   "nbconvert_exporter": "python",
   "pygments_lexer": "ipython3",
   "version": "3.6.5"
  }
 },
 "nbformat": 4,
 "nbformat_minor": 2
}
